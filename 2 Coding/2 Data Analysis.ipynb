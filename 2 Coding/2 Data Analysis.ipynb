{
 "cells": [
  {
   "cell_type": "markdown",
   "id": "baa2b7b5-1d0f-45b4-8b78-6b282c7e540d",
   "metadata": {},
   "source": [
    "Imports"
   ]
  },
  {
   "cell_type": "code",
   "execution_count": 1,
   "id": "5f5c4262-90eb-487d-9543-02a5df2a431f",
   "metadata": {},
   "outputs": [],
   "source": [
    "import pandas as pd\n",
    "import numpy as np\n",
    "import matplotlib.pyplot as plt\n",
    "import seaborn as sns\n",
    "import datetime\n",
    "df = pd.read_excel('/Users/yoshii/Desktop/Retail_Sales.xlsx')"
   ]
  },
  {
   "cell_type": "markdown",
   "id": "8fc88075-ed5d-49ea-8dcf-a45b7060f1b4",
   "metadata": {},
   "source": [
    "Data Cleaning"
   ]
  },
  {
   "cell_type": "markdown",
   "id": "626b8af8-480e-4c89-af57-9ee59512b835",
   "metadata": {},
   "source": [
    "See dataframe"
   ]
  },
  {
   "cell_type": "code",
   "execution_count": 2,
   "id": "c3667eed-08fc-4abb-8857-aa09e5df7d1a",
   "metadata": {},
   "outputs": [
    {
     "data": {
      "text/html": [
       "<div>\n",
       "<style scoped>\n",
       "    .dataframe tbody tr th:only-of-type {\n",
       "        vertical-align: middle;\n",
       "    }\n",
       "\n",
       "    .dataframe tbody tr th {\n",
       "        vertical-align: top;\n",
       "    }\n",
       "\n",
       "    .dataframe thead th {\n",
       "        text-align: right;\n",
       "    }\n",
       "</style>\n",
       "<table border=\"1\" class=\"dataframe\">\n",
       "  <thead>\n",
       "    <tr style=\"text-align: right;\">\n",
       "      <th></th>\n",
       "      <th>Transaction ID</th>\n",
       "      <th>Date</th>\n",
       "      <th>Customer ID</th>\n",
       "      <th>Gender</th>\n",
       "      <th>Age</th>\n",
       "      <th>Product Category</th>\n",
       "      <th>Quantity</th>\n",
       "      <th>Price per Unit</th>\n",
       "      <th>Total Amount</th>\n",
       "    </tr>\n",
       "  </thead>\n",
       "  <tbody>\n",
       "    <tr>\n",
       "      <th>0</th>\n",
       "      <td>1</td>\n",
       "      <td>2023-11-24</td>\n",
       "      <td>CUST001</td>\n",
       "      <td>Male</td>\n",
       "      <td>34</td>\n",
       "      <td>Beauty</td>\n",
       "      <td>3</td>\n",
       "      <td>50</td>\n",
       "      <td>150</td>\n",
       "    </tr>\n",
       "    <tr>\n",
       "      <th>1</th>\n",
       "      <td>2</td>\n",
       "      <td>2023-02-27</td>\n",
       "      <td>CUST002</td>\n",
       "      <td>Female</td>\n",
       "      <td>26</td>\n",
       "      <td>Clothing</td>\n",
       "      <td>2</td>\n",
       "      <td>500</td>\n",
       "      <td>1000</td>\n",
       "    </tr>\n",
       "    <tr>\n",
       "      <th>2</th>\n",
       "      <td>3</td>\n",
       "      <td>2023-01-13</td>\n",
       "      <td>CUST003</td>\n",
       "      <td>Male</td>\n",
       "      <td>50</td>\n",
       "      <td>Electronics</td>\n",
       "      <td>1</td>\n",
       "      <td>30</td>\n",
       "      <td>30</td>\n",
       "    </tr>\n",
       "    <tr>\n",
       "      <th>3</th>\n",
       "      <td>4</td>\n",
       "      <td>2023-05-21</td>\n",
       "      <td>CUST004</td>\n",
       "      <td>Male</td>\n",
       "      <td>37</td>\n",
       "      <td>Clothing</td>\n",
       "      <td>1</td>\n",
       "      <td>500</td>\n",
       "      <td>500</td>\n",
       "    </tr>\n",
       "    <tr>\n",
       "      <th>4</th>\n",
       "      <td>5</td>\n",
       "      <td>2023-05-06</td>\n",
       "      <td>CUST005</td>\n",
       "      <td>Male</td>\n",
       "      <td>30</td>\n",
       "      <td>Beauty</td>\n",
       "      <td>2</td>\n",
       "      <td>50</td>\n",
       "      <td>100</td>\n",
       "    </tr>\n",
       "  </tbody>\n",
       "</table>\n",
       "</div>"
      ],
      "text/plain": [
       "   Transaction ID       Date Customer ID  Gender  Age Product Category  \\\n",
       "0               1 2023-11-24     CUST001    Male   34           Beauty   \n",
       "1               2 2023-02-27     CUST002  Female   26         Clothing   \n",
       "2               3 2023-01-13     CUST003    Male   50      Electronics   \n",
       "3               4 2023-05-21     CUST004    Male   37         Clothing   \n",
       "4               5 2023-05-06     CUST005    Male   30           Beauty   \n",
       "\n",
       "   Quantity  Price per Unit  Total Amount  \n",
       "0         3              50           150  \n",
       "1         2             500          1000  \n",
       "2         1              30            30  \n",
       "3         1             500           500  \n",
       "4         2              50           100  "
      ]
     },
     "execution_count": 2,
     "metadata": {},
     "output_type": "execute_result"
    }
   ],
   "source": [
    "# first 5 rows\n",
    "df.head(5)"
   ]
  },
  {
   "cell_type": "code",
   "execution_count": 3,
   "id": "4ca782fd-4046-4666-9d23-4c235b130aab",
   "metadata": {},
   "outputs": [
    {
     "name": "stdout",
     "output_type": "stream",
     "text": [
      "<class 'pandas.core.frame.DataFrame'>\n",
      "RangeIndex: 1000 entries, 0 to 999\n",
      "Data columns (total 9 columns):\n",
      " #   Column            Non-Null Count  Dtype         \n",
      "---  ------            --------------  -----         \n",
      " 0   Transaction ID    1000 non-null   int64         \n",
      " 1   Date              1000 non-null   datetime64[ns]\n",
      " 2   Customer ID       1000 non-null   object        \n",
      " 3   Gender            1000 non-null   object        \n",
      " 4   Age               1000 non-null   int64         \n",
      " 5   Product Category  1000 non-null   object        \n",
      " 6   Quantity          1000 non-null   int64         \n",
      " 7   Price per Unit    1000 non-null   int64         \n",
      " 8   Total Amount      1000 non-null   int64         \n",
      "dtypes: datetime64[ns](1), int64(5), object(3)\n",
      "memory usage: 70.4+ KB\n"
     ]
    }
   ],
   "source": [
    "# see dataframe information\n",
    "df.info()"
   ]
  },
  {
   "cell_type": "markdown",
   "id": "91285333-744d-44c4-bbaa-e36daeeec868",
   "metadata": {},
   "source": [
    "Find Duplicate row"
   ]
  },
  {
   "cell_type": "code",
   "execution_count": 4,
   "id": "eaa12f3c-7e32-48c9-8113-08d4ef31a830",
   "metadata": {},
   "outputs": [
    {
     "data": {
      "text/plain": [
       "np.int64(0)"
      ]
     },
     "execution_count": 4,
     "metadata": {},
     "output_type": "execute_result"
    }
   ],
   "source": [
    "# duplicated rows\n",
    "df.duplicated().sum()"
   ]
  },
  {
   "cell_type": "markdown",
   "id": "fa1e0077-42a5-4aa8-a225-8a9377c58490",
   "metadata": {},
   "source": [
    "Rename column"
   ]
  },
  {
   "cell_type": "code",
   "execution_count": 5,
   "id": "6d5bec7c-3ca9-4859-ac7b-95db4021e8a2",
   "metadata": {},
   "outputs": [
    {
     "name": "stdout",
     "output_type": "stream",
     "text": [
      "<class 'pandas.core.frame.DataFrame'>\n",
      "RangeIndex: 1000 entries, 0 to 999\n",
      "Data columns (total 9 columns):\n",
      " #   Column            Non-Null Count  Dtype         \n",
      "---  ------            --------------  -----         \n",
      " 0   transaction_id    1000 non-null   int64         \n",
      " 1   date              1000 non-null   datetime64[ns]\n",
      " 2   customer_id       1000 non-null   object        \n",
      " 3   gender            1000 non-null   object        \n",
      " 4   age               1000 non-null   int64         \n",
      " 5   product_category  1000 non-null   object        \n",
      " 6   quantity          1000 non-null   int64         \n",
      " 7   price_per_unit    1000 non-null   int64         \n",
      " 8   total_amount      1000 non-null   int64         \n",
      "dtypes: datetime64[ns](1), int64(5), object(3)\n",
      "memory usage: 70.4+ KB\n"
     ]
    }
   ],
   "source": [
    "# convert to lowercase format and space replace with (_)\n",
    "df.columns = df.columns.str.lower().str.replace(' ', '_')\n",
    "df.info()"
   ]
  },
  {
   "cell_type": "markdown",
   "id": "c12385c0-65f6-4faa-ba80-211401428318",
   "metadata": {},
   "source": [
    "Find Missing Data"
   ]
  },
  {
   "cell_type": "code",
   "execution_count": 6,
   "id": "cf201b49-9778-4e31-894d-e9cb0173cd34",
   "metadata": {},
   "outputs": [
    {
     "data": {
      "text/plain": [
       "transaction_id      0\n",
       "date                0\n",
       "customer_id         0\n",
       "gender              0\n",
       "age                 0\n",
       "product_category    0\n",
       "quantity            0\n",
       "price_per_unit      0\n",
       "total_amount        0\n",
       "dtype: int64"
      ]
     },
     "execution_count": 6,
     "metadata": {},
     "output_type": "execute_result"
    }
   ],
   "source": [
    "# see the null\n",
    "df.isna().sum()"
   ]
  },
  {
   "cell_type": "markdown",
   "id": "c543268e-4fdd-4604-b488-7f7ff4e79413",
   "metadata": {},
   "source": [
    "Change Data type"
   ]
  },
  {
   "cell_type": "code",
   "execution_count": 7,
   "id": "8a2d6369-5239-4adc-995e-c6e8b32638fa",
   "metadata": {},
   "outputs": [
    {
     "name": "stdout",
     "output_type": "stream",
     "text": [
      "transaction_id               int64\n",
      "date                datetime64[ns]\n",
      "customer_id                 object\n",
      "gender                      object\n",
      "age                          int64\n",
      "product_category          category\n",
      "quantity                     int64\n",
      "price_per_unit               int64\n",
      "total_amount                 int64\n",
      "dtype: object\n"
     ]
    }
   ],
   "source": [
    "# change Product Category data type\n",
    "df['product_category'] = df['product_category'].astype('category')\n",
    "print(df.dtypes)"
   ]
  },
  {
   "cell_type": "code",
   "execution_count": 8,
   "id": "41b9fbe1-ae47-46e7-a056-77f0d66f7e24",
   "metadata": {},
   "outputs": [],
   "source": [
    "# change Gender data type\n",
    "df['gender'] = df['gender'].astype('category')"
   ]
  },
  {
   "cell_type": "markdown",
   "id": "7a510059-c75c-40d3-9584-8d468c62dd12",
   "metadata": {},
   "source": [
    "Data Analysis"
   ]
  },
  {
   "cell_type": "markdown",
   "id": "e547873e-0201-4b2d-a9b9-09c8f1c69ec6",
   "metadata": {},
   "source": [
    "See the Virsualization of distribution and Stats"
   ]
  },
  {
   "cell_type": "markdown",
   "id": "cbeaf493-9ebc-46f5-9c7f-18324ef7ec34",
   "metadata": {},
   "source": [
    "Gender Count"
   ]
  },
  {
   "cell_type": "code",
   "execution_count": 9,
   "id": "dc94bef9-b1ae-4a62-952a-7a089840e448",
   "metadata": {},
   "outputs": [
    {
     "data": {
      "text/plain": [
       "gender\n",
       "Female    510\n",
       "Male      490\n",
       "Name: count, dtype: int64"
      ]
     },
     "execution_count": 9,
     "metadata": {},
     "output_type": "execute_result"
    }
   ],
   "source": [
    "df['gender'].value_counts()"
   ]
  },
  {
   "cell_type": "code",
   "execution_count": 10,
   "id": "16a78c3d-b541-4a01-8f0e-7054b9cb245a",
   "metadata": {},
   "outputs": [
    {
     "data": {
      "text/plain": [
       "<Axes: ylabel='count'>"
      ]
     },
     "execution_count": 10,
     "metadata": {},
     "output_type": "execute_result"
    },
    {
     "data": {
      "image/png": "[encoded data removed]",
      "text/plain": [
       "<Figure size 640x480 with 1 Axes>"
      ]
     },
     "metadata": {},
     "output_type": "display_data"
    }
   ],
   "source": [
    "# Gender Chart\n",
    "df['gender'].value_counts().plot(kind='pie', autopct='%.2f%%')"
   ]
  },
  {
   "cell_type": "markdown",
   "id": "7c49af50-3f8f-4562-91f5-5109230d01e4",
   "metadata": {},
   "source": [
    "Product Category Count"
   ]
  },
  {
   "cell_type": "code",
   "execution_count": 11,
   "id": "c4ef2ea6-d966-4827-8ee2-40d7b2830335",
   "metadata": {},
   "outputs": [
    {
     "data": {
      "text/plain": [
       "product_category\n",
       "Clothing       351\n",
       "Electronics    342\n",
       "Beauty         307\n",
       "Name: count, dtype: int64"
      ]
     },
     "execution_count": 11,
     "metadata": {},
     "output_type": "execute_result"
    }
   ],
   "source": [
    "df['product_category'].value_counts()"
   ]
  },
  {
   "cell_type": "code",
   "execution_count": 12,
   "id": "014226a5-de89-4468-97d0-da7a87177d3a",
   "metadata": {},
   "outputs": [
    {
     "data": {
      "text/plain": [
       "<Axes: xlabel='product_category'>"
      ]
     },
     "execution_count": 12,
     "metadata": {},
     "output_type": "execute_result"
    },
    {
     "data": {
      "image/png": "[encoded data removed]",
      "text/plain": [
       "<Figure size 640x480 with 1 Axes>"
      ]
     },
     "metadata": {},
     "output_type": "display_data"
    }
   ],
   "source": [
    "# Product Category Chart\n",
    "df['product_category'].value_counts().plot(kind='bar', color='red')"
   ]
  },
  {
   "cell_type": "markdown",
   "id": "26ca54cd-9ed6-4774-aaed-0420685c0b6d",
   "metadata": {},
   "source": [
    "Age  Stats"
   ]
  },
  {
   "cell_type": "code",
   "execution_count": 13,
   "id": "62b5ad12-1180-4f0d-9dca-93e3dda9838c",
   "metadata": {},
   "outputs": [
    {
     "data": {
      "text/plain": [
       "count    1000.00000\n",
       "mean       41.39200\n",
       "std        13.68143\n",
       "min        18.00000\n",
       "25%        29.00000\n",
       "50%        42.00000\n",
       "75%        53.00000\n",
       "max        64.00000\n",
       "Name: age, dtype: float64"
      ]
     },
     "execution_count": 13,
     "metadata": {},
     "output_type": "execute_result"
    }
   ],
   "source": [
    "df['age'].describe()"
   ]
  },
  {
   "cell_type": "code",
   "execution_count": 14,
   "id": "2b1fc430-4b98-4eb8-99d1-a61f9bdc3009",
   "metadata": {},
   "outputs": [
    {
     "data": {
      "text/plain": [
       "<Axes: ylabel='Frequency'>"
      ]
     },
     "execution_count": 14,
     "metadata": {},
     "output_type": "execute_result"
    },
    {
     "data": {
      "image/png": "[encoded data removed]",
      "text/plain": [
       "<Figure size 640x480 with 1 Axes>"
      ]
     },
     "metadata": {},
     "output_type": "display_data"
    }
   ],
   "source": [
    "# Age Chart\n",
    "df['age'].plot(kind='hist')"
   ]
  },
  {
   "cell_type": "markdown",
   "id": "3d7464ae-de67-4951-9e45-3903b87a4ce1",
   "metadata": {},
   "source": [
    "Price per Unit Stats"
   ]
  },
  {
   "cell_type": "code",
   "execution_count": 15,
   "id": "5b4d52c1-2ef2-4e93-9b9b-28103e7fcfd6",
   "metadata": {},
   "outputs": [
    {
     "data": {
      "text/plain": [
       "count    1000.000000\n",
       "mean      179.890000\n",
       "std       189.681356\n",
       "min        25.000000\n",
       "25%        30.000000\n",
       "50%        50.000000\n",
       "75%       300.000000\n",
       "max       500.000000\n",
       "Name: price_per_unit, dtype: float64"
      ]
     },
     "execution_count": 15,
     "metadata": {},
     "output_type": "execute_result"
    }
   ],
   "source": [
    "df['price_per_unit'].describe()"
   ]
  },
  {
   "cell_type": "code",
   "execution_count": 17,
   "id": "fd89b542-5a64-4418-8b3d-ff14dd862629",
   "metadata": {},
   "outputs": [
    {
     "data": {
      "image/png": "[encoded data removed]",
      "text/plain": [
       "<Figure size 640x480 with 1 Axes>"
      ]
     },
     "metadata": {},
     "output_type": "display_data"
    }
   ],
   "source": [
    "# Price per unit Chart\n",
    "sns.histplot(df, x='price_per_unit')\n",
    "plt.show()"
   ]
  },
  {
   "cell_type": "markdown",
   "id": "abb7fb32-2454-44c9-ba89-5e234b22150d",
   "metadata": {},
   "source": [
    "Total Amount Stats"
   ]
  },
  {
   "cell_type": "code",
   "execution_count": 18,
   "id": "f3336773-2820-488b-973e-1e8b1821de9d",
   "metadata": {},
   "outputs": [
    {
     "data": {
      "text/plain": [
       "count    1000.000000\n",
       "mean      456.000000\n",
       "std       559.997632\n",
       "min        25.000000\n",
       "25%        60.000000\n",
       "50%       135.000000\n",
       "75%       900.000000\n",
       "max      2000.000000\n",
       "Name: total_amount, dtype: float64"
      ]
     },
     "execution_count": 18,
     "metadata": {},
     "output_type": "execute_result"
    }
   ],
   "source": [
    "df['total_amount'].describe()"
   ]
  },
  {
   "cell_type": "code",
   "execution_count": 19,
   "id": "64e9e39e-7217-4898-945a-6df45c05f3d2",
   "metadata": {},
   "outputs": [
    {
     "data": {
      "image/png": "[encoded data removed]",
      "text/plain": [
       "<Figure size 640x480 with 1 Axes>"
      ]
     },
     "metadata": {},
     "output_type": "display_data"
    }
   ],
   "source": [
    "# Total Amount Chart\n",
    "sns.histplot(df['total_amount'])\n",
    "plt.title('Total Amount Distribution')\n",
    "plt.show()"
   ]
  },
  {
   "cell_type": "markdown",
   "id": "86ffd30d-0ffb-4a6c-852f-05d65791218d",
   "metadata": {},
   "source": [
    "Correlation Coefficient Analysis"
   ]
  },
  {
   "cell_type": "markdown",
   "id": "d9dca374-cbe7-42b1-a8e0-c6439e129260",
   "metadata": {},
   "source": [
    "Heat Map"
   ]
  },
  {
   "cell_type": "code",
   "execution_count": 20,
   "id": "3a1e15f0-fc98-4d12-af69-1b5e97476f8c",
   "metadata": {},
   "outputs": [
    {
     "data": {
      "image/png": "[encoded data removed]",
      "text/plain": [
       "<Figure size 640x480 with 2 Axes>"
      ]
     },
     "metadata": {},
     "output_type": "display_data"
    }
   ],
   "source": [
    "correlation_mat = df[['age', 'quantity', 'price_per_unit', 'total_amount']].corr()\n",
    "sns.heatmap(correlation_mat, annot=True, cmap='coolwarm', fmt=\".2f\")\n",
    "plt.title('Correlation Heatmap')\n",
    "plt.show()"
   ]
  },
  {
   "cell_type": "markdown",
   "id": "ea7b5a7a-79e9-44f4-9ed7-c0d28f2910c5",
   "metadata": {},
   "source": [
    "The heatmap show the correlation coefficient between price per unit and total amount spent (0.8519) indicates a strong positive linear relationship. This suggests that as the price per unit increases, the total amount spent tends to increase as well."
   ]
  }
 ],
 "metadata": {
  "kernelspec": {
   "display_name": "Python [conda env:base] *",
   "language": "python",
   "name": "conda-base-py"
  },
  "language_info": {
   "codemirror_mode": {
    "name": "ipython",
    "version": 3
   },
   "file_extension": ".py",
   "mimetype": "text/x-python",
   "name": "python",
   "nbconvert_exporter": "python",
   "pygments_lexer": "ipython3",
   "version": "3.13.5"
  }
 },
 "nbformat": 4,
 "nbformat_minor": 5
}
